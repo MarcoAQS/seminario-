{
  "cells": [
    {
      "cell_type": "markdown",
      "source": [
        "<a href=\"https://colab.research.google.com/drive/1346Klb6jGXbdkT1bTXB5s8oS9PbuFeet?usp=sharing\" target=\"_parent\"><img src=\"https://colab.research.google.com/assets/colab-badge.svg\" alt=\"Open In Colab\"/></a>"
      ],
      "metadata": {
        "id": "G511QJoGdqu6"
      },
      "id": "G511QJoGdqu6"
    },
    {
      "cell_type": "markdown",
      "id": "9cee6f4b-2470-40f9-9293-860f549f7f38",
      "metadata": {
        "id": "9cee6f4b-2470-40f9-9293-860f549f7f38"
      },
      "source": [
        "# Tarea 2. Sección de código\n",
        "Marco Antonio Quintero Santiago\n",
        "\n",
        "\n",
        "## Algoritmos de ordenamiento.\n",
        "\n",
        "1) Coloca los códigos que elaboraste en clase en el siguiente orden. Cada uno de ellos debe tener la explicación con tus porpias palabras de cada uno.\n",
        "\n",
        "- Bubble Sort\n",
        "- Insertion Sort\n",
        "- Selection Sort\n",
        "\n",
        "### Coloca tus códigos"
      ]
    },
    {
      "cell_type": "markdown",
      "id": "57546b36",
      "metadata": {
        "id": "57546b36"
      },
      "source": [
        "#### Explicación"
      ]
    },
    {
      "cell_type": "code",
      "execution_count": null,
      "id": "600c45e4-11ac-436e-ab18-812ba6d7941f",
      "metadata": {
        "id": "600c45e4-11ac-436e-ab18-812ba6d7941f"
      },
      "outputs": [],
      "source": [
        "# código bubble sort\n",
        "def ordenar_burbuja_menor_mayor(arr):\n",
        "  auxiliar = 0\n",
        "  for i in range(len(arr)-1):\n",
        "    for j in range(len(arr)-1-i):\n",
        "      if arr[j] > arr[j+1]:\n",
        "        auxiliar = arr[j]\n",
        "        arr[j] = arr[j+1]\n",
        "        arr[j+1] = auxiliar\n",
        "\n",
        "  return arr"
      ]
    },
    {
      "cell_type": "markdown",
      "id": "1b11f0a0",
      "metadata": {
        "id": "1b11f0a0"
      },
      "source": [
        "Este algoritmo compara los elementos del arreglo por pares, es decir, en la primer iteración compara el primer elemento con el segundo.\n",
        "\n",
        "\n",
        "*   Si el primer elemento es menor que el segundo simplemente pasamos a la siguiente a la siguiente pareja de números.\n",
        "*   Si el primer elemento es mayor que el segundo, los intercambiamos de posición (el segundo pasa a ser el primero y viceversa) y pasamos a la siguiente pareja de números.\n",
        "\n",
        "Al llegar a la penúltima posición y comparar la última pareja, se dará por hecho que el número mayor esta en su posición correcta. Continuamos iterando hasta que ya no haya parejas que comparar."
      ]
    },
    {
      "cell_type": "code",
      "execution_count": null,
      "id": "407e7ea5-6fc6-4823-8370-8787e08851d4",
      "metadata": {
        "id": "407e7ea5-6fc6-4823-8370-8787e08851d4"
      },
      "outputs": [],
      "source": [
        "# código insertion sort\n",
        "def insercion(arr):\n",
        "    aux = 0\n",
        "    for i in range(len(arr)):\n",
        "        aux = arr[i]\n",
        "        for j in range(i-1,-1,-1):\n",
        "            if arr[j] > aux:\n",
        "                arr[j+1] = arr[j]\n",
        "                arr[j] = aux\n",
        "    return arr"
      ]
    },
    {
      "cell_type": "markdown",
      "id": "e03f5b3f",
      "metadata": {
        "id": "e03f5b3f"
      },
      "source": [
        "#### Explicación"
      ]
    },
    {
      "cell_type": "markdown",
      "id": "ca18c34c",
      "metadata": {
        "id": "ca18c34c"
      },
      "source": [
        "Este algoritmo se basa en tomar un elemento y compararlo con todos los elementos anteriores a este para encontrar su lugar correcto. Empezamos a recorrer desde el segundo elemento del arreglo, pues partimos del supuesto que el primer elemento esta en su posición correcta.\n",
        "\n",
        "Comparamos un elemento $i$ del arreglo con los elementos que están a su izquierda:\n",
        "\n",
        "\n",
        "*   Si el elemento a la izquierda $(j)$ es mayor al elemento elegido $(i)$, entonces lo almacenamos en la posición que le sigue (i.e. $arr[j+1] = arr[j]$). Después ponemos el elemento $i$ en la posición del elemento anterior (i.e. $arr[j] = arr[i]$)\n",
        "*   Si el elemento anterior es menor, entonces no cambiamos nada.\n",
        "\n",
        "Comparamos con cada uno de los elementos anteriores hasta que llegemos al inicio del arreglo (hasta $j=0$, tenemos un ciclo decreciente). Una vez comparados estos elementos anteriores, pasamos a comparar el siguiente elemento del arreglo (la siguiente $i$)."
      ]
    },
    {
      "cell_type": "code",
      "execution_count": null,
      "id": "70328f28-0e88-4c87-8e9c-ccfef00d1a10",
      "metadata": {
        "id": "70328f28-0e88-4c87-8e9c-ccfef00d1a10"
      },
      "outputs": [],
      "source": [
        "#código selection sort\n",
        "def seleccion(arr):\n",
        "    temporal = 0\n",
        "    indice_min = 0\n",
        "\n",
        "    for i in range(len(arr)-1):\n",
        "        indice_min = i\n",
        "        for j in range(i+1,len(arr)):\n",
        "            if arr[j] < arr[indice_min]:\n",
        "                indice_min = j\n",
        "        temporal = arr[indice_min]\n",
        "        arr[indice_min] = arr[i]\n",
        "        arr[i] = temporal\n",
        "    return arr\n"
      ]
    },
    {
      "cell_type": "markdown",
      "id": "b4d5ff42",
      "metadata": {
        "id": "b4d5ff42"
      },
      "source": [
        "#### Explicación"
      ]
    },
    {
      "cell_type": "markdown",
      "id": "11128ad0",
      "metadata": {
        "id": "11128ad0"
      },
      "source": [
        "El algoritmo se trata de escoger un elemento (seleccionamos el primero) e ir comparando con los elementos a su derecha para ir encontrar el más pequeño, y así este sea asignado a su posición correcta.\n",
        "\n",
        "1. Suponemos que el elemento a iterar es el elemento más pequeño (aignamos su posición a la variable `indice_min`)\n",
        "\n",
        "2. Comenzamos a iterar los elementos a su derecha:\n",
        "  \n",
        "\n",
        "*   Si el elemento ($j$) a comparar es menor al \"más pequeño\" entonces el indice más pequeño pasar a ser el de la posición $j$:\n",
        "\n",
        "  Si `arr[j] < arr[indice_min]` $\\Rightarrow$ `indice_min = j`\n",
        "*   En otro caso comparamos con el elemento que sigue ($j = j+1 $)\n",
        "\n",
        "3. Una vez comparados todos lo elementos a la derecha, intercambiamos los elementos: `arr[indice_min]` $\\leftrightarrow$ `arr[i]`"
      ]
    },
    {
      "cell_type": "markdown",
      "id": "63200dbe-7ab2-4d0e-8462-824388430895",
      "metadata": {
        "id": "63200dbe-7ab2-4d0e-8462-824388430895"
      },
      "source": [
        "### Sección de pruebas\n",
        "\n",
        "2. Ahora prueba tus códigos con los siguientes arreglos:"
      ]
    },
    {
      "cell_type": "code",
      "execution_count": null,
      "id": "f89c22df-cd52-4f14-94fd-c871a07e8d71",
      "metadata": {
        "id": "f89c22df-cd52-4f14-94fd-c871a07e8d71"
      },
      "outputs": [],
      "source": [
        "lista = [1, 5, -2, 0, 10, 100, 55, 12, 10, 2, -10, -3]\n",
        "lista1 = lista.copy() #Copiamos la lista1 para que no se modifique la lista\n",
        "lista2 = lista.copy() #al ordenar con los diferentes algoritmos\n",
        "lista3 = lista.copy()"
      ]
    },
    {
      "cell_type": "code",
      "execution_count": null,
      "id": "f8e6c9e1",
      "metadata": {
        "id": "f8e6c9e1",
        "outputId": "18be8167-e962-4d69-be53-a5860358863b"
      },
      "outputs": [
        {
          "name": "stdout",
          "output_type": "stream",
          "text": [
            "Algoritmo burbuja:\n",
            " [-10, -3, -2, 0, 1, 2, 5, 10, 10, 12, 55, 100]\n",
            "Algoritmo inserción:\n",
            " [-10, -3, -2, 0, 1, 2, 5, 10, 10, 12, 55, 100]\n",
            "Algoritmo selección:\n",
            " [-10, -3, -2, 0, 1, 2, 5, 10, 10, 12, 55, 100]\n"
          ]
        }
      ],
      "source": [
        "print('Algoritmo burbuja:\\n', ordenar_burbuja_menor_mayor(lista1))\n",
        "print('Algoritmo inserción:\\n', insercion(lista2))\n",
        "print('Algoritmo selección:\\n', seleccion(lista3))"
      ]
    },
    {
      "cell_type": "code",
      "execution_count": null,
      "id": "b6d6687a-6d34-481f-921c-9ed8269519a0",
      "metadata": {
        "id": "b6d6687a-6d34-481f-921c-9ed8269519a0"
      },
      "outputs": [],
      "source": [
        "# Importamos un Método de la biblioteca random para generar listas aleatorias\n",
        "import random\n",
        "\n",
        "# semilla correspondiente a tu número de lista\n",
        "numero_lista = 16\n",
        "random.seed(numero_lista)\n",
        "\n",
        "# lista con 100 números\n",
        "rand_list100 = [random.randint(0, 100) for _ in range(100)]\n",
        "#print(rand_list100) # solo imprime si es necesario\n",
        "\n",
        "rand_list500 = [random.randint(0, 500) for _ in range(500)]\n",
        "#print(rand_list500)  # solo imprime si es necesario\n",
        "\n",
        "rand_list1000 = [random.randint(0, 1000) for _ in range(1000)]\n",
        "#print(rand_list1000)  # solo imprime si es necesario"
      ]
    },
    {
      "cell_type": "markdown",
      "id": "9cefbdb2-a59b-4894-a427-7f1e8d0cc598",
      "metadata": {
        "id": "9cefbdb2-a59b-4894-a427-7f1e8d0cc598"
      },
      "source": [
        "Utiliza la siguiente paquetería, time, para saber cuánto tiempo tarda en ejecutarse tus algoritmos con los distintos arreglos.\n",
        "\n",
        "Aquí tienes un ejemplo de cómo utilizarlo:"
      ]
    },
    {
      "cell_type": "code",
      "execution_count": null,
      "id": "7c744435-10ff-4a14-b988-5abc97663c64",
      "metadata": {
        "id": "7c744435-10ff-4a14-b988-5abc97663c64",
        "outputId": "a562d8c6-6592-4c71-be32-e67646bc867e"
      },
      "outputs": [
        {
          "name": "stdout",
          "output_type": "stream",
          "text": [
            "Para n=10, el tiempo de ejecución es: 4.6e-06 segundos\n",
            "Para n=100, el tiempo de ejecución es: 1.59e-05 segundos\n",
            "Para n=1000, el tiempo de ejecución es: 6.21e-05 segundos\n",
            "Para n=10000, el tiempo de ejecución es: 0.0004658 segundos\n"
          ]
        }
      ],
      "source": [
        "import timeit\n",
        "\n",
        "# función\n",
        "def mi_funcion(n):\n",
        "    return [i for i in range(n)]\n",
        "\n",
        "# Valores para comparar de acuerdo a los parámetros de entrada\n",
        "valores = [10, 100, 1000, 10000]\n",
        "\n",
        "# Comparar el tiempo de ejecución de la función con cada valor\n",
        "# utiliza el round() según el número de dígitos que creas necesario\n",
        "for valor in valores:\n",
        "    tiempo = timeit.timeit(lambda: mi_funcion(valor), number=1)\n",
        "    print(f\"Para n={valor}, el tiempo de ejecución es: {round(tiempo,8)} segundos\")"
      ]
    },
    {
      "cell_type": "code",
      "execution_count": null,
      "id": "4468b56a",
      "metadata": {
        "id": "4468b56a",
        "outputId": "dd3d6709-95bd-4eb8-fcf2-550ecda76294"
      },
      "outputs": [
        {
          "name": "stdout",
          "output_type": "stream",
          "text": [
            "Para n=12, el tiempo de ejecución del algoritmo burbuja es: 2.12e-05 segundos\n",
            "Para n=100, el tiempo de ejecución del algoritmo burbuja es: 0.0004857 segundos\n",
            "Para n=500, el tiempo de ejecución del algoritmo burbuja es: 0.016624 segundos\n",
            "Para n=1000, el tiempo de ejecución del algoritmo burbuja es: 0.0641147 segundos\n"
          ]
        }
      ],
      "source": [
        "arreglos1 = [lista.copy(),rand_list100.copy(), rand_list500.copy(), rand_list1000.copy()]\n",
        "time_bubble = []\n",
        "\n",
        "for arreglo in arreglos1:\n",
        "    tiempo = timeit.timeit(lambda: ordenar_burbuja_menor_mayor(arreglo), number=1)\n",
        "    print(f\"Para n={len(arreglo)}, el tiempo de ejecución del algoritmo burbuja es: {round(tiempo,8)} segundos\")\n",
        "    time_bubble.append(round(tiempo,8)) #guardamos los tiempos en una lista"
      ]
    },
    {
      "cell_type": "code",
      "execution_count": null,
      "id": "fecf4eb5",
      "metadata": {
        "id": "fecf4eb5",
        "outputId": "ac38c958-8cc1-4623-eda6-1ffed4113d03"
      },
      "outputs": [
        {
          "name": "stdout",
          "output_type": "stream",
          "text": [
            "Para n=12, el tiempo de ejecución del algoritmo de inserción es: 2.59e-05 segundos\n",
            "Para n=100, el tiempo de ejecución del algoritmo de inserción es: 0.0006809 segundos\n",
            "Para n=500, el tiempo de ejecución del algoritmo de inserción es: 0.0090485 segundos\n",
            "Para n=1000, el tiempo de ejecución del algoritmo de inserción es: 0.0483765 segundos\n"
          ]
        }
      ],
      "source": [
        "arreglos2 = [lista.copy(),rand_list100.copy(), rand_list500.copy(), rand_list1000.copy()]\n",
        "time_insertion = []\n",
        "\n",
        "for arreglo in arreglos2:\n",
        "    tiempo = timeit.timeit(lambda: insercion(arreglo), number=1)\n",
        "    print(f\"Para n={len(arreglo)}, el tiempo de ejecución del algoritmo de inserción es: {round(tiempo,8)} segundos\")\n",
        "    time_insertion.append(round(tiempo,8)) #guardamos los tiempos en una lista"
      ]
    },
    {
      "cell_type": "code",
      "execution_count": null,
      "id": "b859bce0",
      "metadata": {
        "id": "b859bce0",
        "outputId": "da502dde-ea43-4a6c-a601-965bc3c836b3"
      },
      "outputs": [
        {
          "name": "stdout",
          "output_type": "stream",
          "text": [
            "Para n=12, el tiempo de ejecución del algoritmo de selección es: 2.39e-05 segundos\n",
            "Para n=100, el tiempo de ejecución del algoritmo de selección es: 0.0003542 segundos\n",
            "Para n=500, el tiempo de ejecución del algoritmo de selección es: 0.0055554 segundos\n",
            "Para n=1000, el tiempo de ejecución del algoritmo de selección es: 0.0232695 segundos\n"
          ]
        }
      ],
      "source": [
        "arreglos3 = [lista.copy(),rand_list100.copy(), rand_list500.copy(), rand_list1000.copy()]\n",
        "time_selection = []\n",
        "\n",
        "for arreglo in arreglos3:\n",
        "    tiempo = timeit.timeit(lambda: seleccion(arreglo), number=1)\n",
        "    print(f\"Para n={len(arreglo)}, el tiempo de ejecución del algoritmo de selección es: {round(tiempo,8)} segundos\")\n",
        "    time_selection.append(round(tiempo,8))  #guardamos los tiempos en una lista"
      ]
    },
    {
      "cell_type": "markdown",
      "id": "393575e7-bfbc-44c7-83a4-3260bf491204",
      "metadata": {
        "id": "393575e7-bfbc-44c7-83a4-3260bf491204"
      },
      "source": [
        "### Sección de colocar los resultados y concluir\n",
        "\n",
        "En esta parte coloca tus resultados de acuerdo a lo que obtuviste anteriormente. En los siguientes vectores: time_bubble, time_insertion, time_selection, debes colocar los resultados en tiempo que obtuviste con las listas: lista1, rand_list100, rand_list500 y rand_list1000."
      ]
    },
    {
      "cell_type": "code",
      "execution_count": null,
      "id": "3ad7efcf-166e-4fbb-99b6-881fc4467d47",
      "metadata": {
        "id": "3ad7efcf-166e-4fbb-99b6-881fc4467d47",
        "outputId": "39b26174-b487-44b8-bd83-6d408600547c"
      },
      "outputs": [
        {
          "name": "stdout",
          "output_type": "stream",
          "text": [
            "            Bubble sort  Insertion sort  Selection sort\n",
            "Lista 1        0.000021        0.000026        0.000024\n",
            "Lista 100      0.000486        0.000681        0.000354\n",
            "Lista 500      0.016624        0.009048        0.005555\n",
            "Lista 1000     0.064115        0.048377        0.023269\n"
          ]
        }
      ],
      "source": [
        "import pandas as pd\n",
        "\n",
        "# Aquí coloca los tiempos que obtuviste\n",
        "# - ya los obtuvimos en las celdas anteriores\n",
        "\n",
        "# creamos un diccionario llamado tiempos para guardar los datos almacenados en los vectores anteriores\n",
        "tiempos ={'Bubble sort':time_bubble,'Insertion sort':time_insertion, 'Selection sort':time_selection}\n",
        "\n",
        "# ahora definimos un DataFrame con el diccionario tiempos\n",
        "df_tiempos = pd.DataFrame(tiempos)\n",
        "\n",
        "# definimos el nombre de los labels por renglones\n",
        "row_labels = ['Lista 1','Lista 100','Lista 500','Lista 1000']\n",
        "\n",
        "# Cambiamos el nombre de los labels por renglones del dataframe\n",
        "df_tiempos.index=row_labels\n",
        "\n",
        "# Print df_tiempos\n",
        "print(df_tiempos)"
      ]
    }
  ],
  "metadata": {
    "colab": {
      "provenance": []
    },
    "kernelspec": {
      "display_name": "Python 3 (ipykernel)",
      "language": "python",
      "name": "python3"
    },
    "language_info": {
      "codemirror_mode": {
        "name": "ipython",
        "version": 3
      },
      "file_extension": ".py",
      "mimetype": "text/x-python",
      "name": "python",
      "nbconvert_exporter": "python",
      "pygments_lexer": "ipython3",
      "version": "3.11.4"
    }
  },
  "nbformat": 4,
  "nbformat_minor": 5
}