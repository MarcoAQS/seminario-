{
  "nbformat": 4,
  "nbformat_minor": 0,
  "metadata": {
    "colab": {
      "provenance": [],
      "authorship_tag": "ABX9TyMqijZPT0cx+nWuxyrJU0Kg",
      "include_colab_link": true
    },
    "kernelspec": {
      "name": "python3",
      "display_name": "Python 3"
    },
    "language_info": {
      "name": "python"
    }
  },
  "cells": [
    {
      "cell_type": "markdown",
      "metadata": {
        "id": "view-in-github",
        "colab_type": "text"
      },
      "source": [
        "<a href=\"https://colab.research.google.com/github/MarcoAQS/seminario-/blob/main/Tarea3_busqueda_local.ipynb\" target=\"_parent\"><img src=\"https://colab.research.google.com/assets/colab-badge.svg\" alt=\"Open In Colab\"/></a>"
      ]
    },
    {
      "cell_type": "markdown",
      "source": [
        "# Tarea 3. Ejercicio 8\n",
        "\n",
        "Marco Antonio Quintero Santiago"
      ],
      "metadata": {
        "id": "QB20nQtgkf2Q"
      }
    },
    {
      "cell_type": "code",
      "execution_count": 53,
      "metadata": {
        "id": "OBLaYa67kdG0"
      },
      "outputs": [],
      "source": [
        "import numpy as np\n",
        "import random\n",
        "import networkx as nx"
      ]
    },
    {
      "cell_type": "code",
      "source": [
        "def cobertura(g, v_prim):\n",
        "    \"\"\"\n",
        "    Función que evalua si un subconjunto de vértices\n",
        "    (expresado en forma binaria) es una cobertura de\n",
        "    la gráfica.\n",
        "\n",
        "    Input:\n",
        "    - g: Una gráfica (usando networkx)\n",
        "    - vertices: subconjunto de vértices (binario)\n",
        "\n",
        "    Returns:\n",
        "    - True (boolean) si el subconjunto de vértices es una cobertura\n",
        "    - False (boolean) en otro caso\n",
        "    \"\"\"\n",
        "\n",
        "    for arista in g.edges():\n",
        "        if v_prim[arista[0]] == 0 and v_prim[arista[1]] == 0:\n",
        "            return False # Si se encuentra una arista que no está cubierta, se regresa False\n",
        "        pass # Si todas las aristas están cubiertas, se regresa True\n",
        "\n",
        "    return True\n"
      ],
      "metadata": {
        "id": "NB-qLpvAkpYm"
      },
      "execution_count": 54,
      "outputs": []
    },
    {
      "cell_type": "code",
      "source": [
        "def funcion_f(s,g):\n",
        "    if cobertura(g,s):\n",
        "        return sum(s)\n",
        "    else: #Penalizamos una solución que no sea factible\n",
        "        return sum(s) + (len(g.edges())*sum(s))"
      ],
      "metadata": {
        "id": "CfOFRwZUkrIw"
      },
      "execution_count": 55,
      "outputs": []
    },
    {
      "cell_type": "code",
      "source": [
        "def genera_grafica_aleatoria(n:int, p:float):\n",
        "    \"\"\"\n",
        "    Función para generar n vertices con una probabilidad p\n",
        "    de agregar la arista que una dos vertices\n",
        "\n",
        "    Input:\n",
        "    - n (int): Numero de nodos de la grafica.\n",
        "    - p (float): Proba de agregar una arista.\n",
        "\n",
        "    Returns:\n",
        "    - g (nx.Graph): La grafica generada.\n",
        "    \"\"\"\n",
        "    g = nx.Graph()\n",
        "    g.add_nodes_from(range(n))\n",
        "    for i in range(n):\n",
        "        for j in range(i+1, n):\n",
        "            if random.random() < p:\n",
        "                g.add_edge(i, j)\n",
        "    return g"
      ],
      "metadata": {
        "id": "SDILoHZVk3qZ"
      },
      "execution_count": 56,
      "outputs": []
    },
    {
      "cell_type": "code",
      "source": [
        "def genera_solucion_aleatoria(n:int):\n",
        "    \"\"\"\n",
        "    Genera una solucion aleatoria de tamaño n.\n",
        "\n",
        "    Input:\n",
        "    - n (int): Tamaño de la solucion\n",
        "\n",
        "    Returns:\n",
        "    - list: Una lista de valores binarios (0 o 1)\n",
        "    \"\"\"\n",
        "    return [random.randint(0, 1) for i in range(n)]"
      ],
      "metadata": {
        "id": "OMIHebctl65b"
      },
      "execution_count": 57,
      "outputs": []
    },
    {
      "cell_type": "markdown",
      "source": [
        "## Vecindades"
      ],
      "metadata": {
        "id": "g_VSOodfmNqx"
      }
    },
    {
      "cell_type": "code",
      "source": [
        "def vecindadC(s):\n",
        "    vecinos = []\n",
        "    for i in range(len(s)):\n",
        "        vecino = s.copy()\n",
        "        vecino[i] = 1 - vecino[i]\n",
        "        vecinos.append(vecino)\n",
        "\n",
        "    return vecinos\n",
        "\n",
        "\n",
        "def vecindadRK(s,k=3):\n",
        "    vecinos = []\n",
        "    for i in range(k):\n",
        "        vecino = s.copy()\n",
        "        j = random.randint(0,len(s)-1)\n",
        "        vecino[j] = 1 - vecino[j]\n",
        "        vecinos.append(vecino)\n",
        "\n",
        "    return vecinos"
      ],
      "metadata": {
        "id": "IySGpGHomO0P"
      },
      "execution_count": 58,
      "outputs": []
    },
    {
      "cell_type": "code",
      "source": [
        "def busqueda_local(s0, g, N, n = 10, f=funcion_f):\n",
        "    x = s0\n",
        "    z = f(x,g)\n",
        "\n",
        "    k = 0\n",
        "\n",
        "    while k < n:\n",
        "        vecinos = N(x)\n",
        "        y = min(vecinos, key = lambda x: f(x,g))\n",
        "        w = f(y,g)\n",
        "\n",
        "        if w < z and cobertura(g,y):\n",
        "            x = y\n",
        "            z = w\n",
        "            k = 0\n",
        "        else:\n",
        "            k += 1\n",
        "\n",
        "    return x, z"
      ],
      "metadata": {
        "id": "x7K6lkXeor_B"
      },
      "execution_count": 60,
      "outputs": []
    },
    {
      "cell_type": "markdown",
      "source": [
        "### Instancia 1"
      ],
      "metadata": {
        "id": "9qp7pKFumU2T"
      }
    },
    {
      "cell_type": "code",
      "source": [
        "random.seed(0)\n",
        "n1 = 6\n",
        "g = genera_grafica_aleatoria(n1, 0.6)\n",
        "\n",
        "for edge in g.edges():\n",
        "    print(edge)"
      ],
      "metadata": {
        "colab": {
          "base_uri": "https://localhost:8080/"
        },
        "id": "LngwVeujllYE",
        "outputId": "c97e5892-c0c8-4557-84ee-a6d50d54c08a"
      },
      "execution_count": 61,
      "outputs": [
        {
          "output_type": "stream",
          "name": "stdout",
          "text": [
            "(0, 3)\n",
            "(0, 4)\n",
            "(0, 5)\n",
            "(1, 2)\n",
            "(1, 4)\n",
            "(1, 5)\n",
            "(2, 3)\n",
            "(2, 5)\n",
            "(3, 4)\n"
          ]
        }
      ]
    },
    {
      "cell_type": "code",
      "source": [
        "random.seed(0)\n",
        "sol0_1 = genera_solucion_aleatoria(n1)\n",
        "sol0_1"
      ],
      "metadata": {
        "colab": {
          "base_uri": "https://localhost:8080/"
        },
        "id": "2tYB38uvly9g",
        "outputId": "9c9481fb-9731-452d-a49f-4deed0d8a010"
      },
      "execution_count": 62,
      "outputs": [
        {
          "output_type": "execute_result",
          "data": {
            "text/plain": [
              "[1, 1, 0, 1, 1, 1]"
            ]
          },
          "metadata": {},
          "execution_count": 62
        }
      ]
    },
    {
      "cell_type": "code",
      "source": [
        "busqueda_local(sol0_1, g, vecindadC)"
      ],
      "metadata": {
        "colab": {
          "base_uri": "https://localhost:8080/"
        },
        "id": "J4WgNuihowPl",
        "outputId": "d094a5ba-c10a-4f9c-a003-84dd43344efb"
      },
      "execution_count": 63,
      "outputs": [
        {
          "output_type": "execute_result",
          "data": {
            "text/plain": [
              "([0, 1, 0, 1, 1, 1], 4)"
            ]
          },
          "metadata": {},
          "execution_count": 63
        }
      ]
    },
    {
      "cell_type": "code",
      "source": [
        "busqueda_local(sol0_1, g, vecindadRK)"
      ],
      "metadata": {
        "colab": {
          "base_uri": "https://localhost:8080/"
        },
        "id": "oMaygpS5reZn",
        "outputId": "0d971371-899a-418e-fd79-ed37c13bd247"
      },
      "execution_count": 65,
      "outputs": [
        {
          "output_type": "execute_result",
          "data": {
            "text/plain": [
              "([1, 1, 0, 1, 0, 1], 4)"
            ]
          },
          "metadata": {},
          "execution_count": 65
        }
      ]
    },
    {
      "cell_type": "markdown",
      "source": [
        "### Instancia 2"
      ],
      "metadata": {
        "id": "Jknnc2G7pBQI"
      }
    },
    {
      "cell_type": "code",
      "source": [
        "random.seed(1)\n",
        "n2 = 15\n",
        "h = genera_grafica_aleatoria(n2, 0.3)\n",
        "\n",
        "for edge in h.edges():\n",
        "    print(edge)"
      ],
      "metadata": {
        "colab": {
          "base_uri": "https://localhost:8080/"
        },
        "id": "sLdCFesIpGMe",
        "outputId": "8b668df5-d47f-47d1-c228-385b0ec76f46"
      },
      "execution_count": 66,
      "outputs": [
        {
          "output_type": "stream",
          "name": "stdout",
          "text": [
            "(0, 1)\n",
            "(0, 4)\n",
            "(0, 9)\n",
            "(0, 10)\n",
            "(0, 14)\n",
            "(1, 4)\n",
            "(1, 7)\n",
            "(1, 8)\n",
            "(1, 12)\n",
            "(1, 14)\n",
            "(2, 3)\n",
            "(2, 6)\n",
            "(2, 7)\n",
            "(2, 8)\n",
            "(2, 10)\n",
            "(2, 11)\n",
            "(3, 4)\n",
            "(3, 7)\n",
            "(4, 11)\n",
            "(4, 12)\n",
            "(5, 6)\n",
            "(6, 9)\n",
            "(6, 10)\n",
            "(7, 8)\n",
            "(7, 14)\n",
            "(8, 13)\n",
            "(9, 11)\n",
            "(11, 13)\n",
            "(12, 14)\n"
          ]
        }
      ]
    },
    {
      "cell_type": "code",
      "source": [
        "random.seed(1)\n",
        "sol0_2 = genera_solucion_aleatoria(n2)\n",
        "sol0_2"
      ],
      "metadata": {
        "colab": {
          "base_uri": "https://localhost:8080/"
        },
        "id": "D31vzXB4pRnX",
        "outputId": "a73b49f9-b6b7-422e-d639-2ecae8a1dac3"
      },
      "execution_count": 67,
      "outputs": [
        {
          "output_type": "execute_result",
          "data": {
            "text/plain": [
              "[0, 0, 1, 0, 1, 1, 1, 1, 0, 0, 1, 0, 1, 1, 0]"
            ]
          },
          "metadata": {},
          "execution_count": 67
        }
      ]
    },
    {
      "cell_type": "code",
      "source": [
        "busqueda_local(sol0_2, h,vecindadC)"
      ],
      "metadata": {
        "colab": {
          "base_uri": "https://localhost:8080/"
        },
        "id": "AbNXSVs1pVFL",
        "outputId": "fba94aa0-df84-4bf5-c18d-df16e3af602a"
      },
      "execution_count": 69,
      "outputs": [
        {
          "output_type": "execute_result",
          "data": {
            "text/plain": [
              "([0, 0, 1, 0, 1, 1, 1, 1, 0, 0, 1, 0, 1, 1, 0], 240)"
            ]
          },
          "metadata": {},
          "execution_count": 69
        }
      ]
    },
    {
      "cell_type": "code",
      "source": [
        "busqueda_local(sol0_2, h, vecindadRK)"
      ],
      "metadata": {
        "colab": {
          "base_uri": "https://localhost:8080/"
        },
        "id": "3zDvclOIroPh",
        "outputId": "ac7a744a-b392-46cf-cdfc-17e08bf6e9a3"
      },
      "execution_count": 70,
      "outputs": [
        {
          "output_type": "execute_result",
          "data": {
            "text/plain": [
              "([0, 0, 1, 0, 1, 1, 1, 1, 0, 0, 1, 0, 1, 1, 0], 240)"
            ]
          },
          "metadata": {},
          "execution_count": 70
        }
      ]
    },
    {
      "cell_type": "code",
      "source": [
        "cobertura(h,busqueda_local(sol0_2, h, funcion_f, vecindadC)[0])"
      ],
      "metadata": {
        "colab": {
          "base_uri": "https://localhost:8080/"
        },
        "id": "j7psaiTVp4Ug",
        "outputId": "2ab60571-6358-4d3d-9b4d-a147f4491487"
      },
      "execution_count": null,
      "outputs": [
        {
          "output_type": "execute_result",
          "data": {
            "text/plain": [
              "False"
            ]
          },
          "metadata": {},
          "execution_count": 44
        }
      ]
    },
    {
      "cell_type": "markdown",
      "source": [
        "### Instancia 3"
      ],
      "metadata": {
        "id": "PJmfb3qo0fOf"
      }
    },
    {
      "cell_type": "code",
      "source": [
        "random.seed(2)\n",
        "n3 = 50\n",
        "q = genera_grafica_aleatoria(n3, 0.2)"
      ],
      "metadata": {
        "id": "o5wYkZyd0gNE"
      },
      "execution_count": 74,
      "outputs": []
    },
    {
      "cell_type": "code",
      "source": [
        "random.seed(2)\n",
        "sol0_3 = genera_solucion_aleatoria(n3)\n",
        "sol0_3"
      ],
      "metadata": {
        "colab": {
          "base_uri": "https://localhost:8080/"
        },
        "id": "cKcyeT1x0pq7",
        "outputId": "d5c730af-9608-4dcd-b109-5f6a37a7822b"
      },
      "execution_count": 75,
      "outputs": [
        {
          "output_type": "execute_result",
          "data": {
            "text/plain": [
              "[0,\n",
              " 0,\n",
              " 0,\n",
              " 1,\n",
              " 0,\n",
              " 1,\n",
              " 1,\n",
              " 0,\n",
              " 0,\n",
              " 0,\n",
              " 1,\n",
              " 1,\n",
              " 1,\n",
              " 1,\n",
              " 1,\n",
              " 0,\n",
              " 0,\n",
              " 1,\n",
              " 1,\n",
              " 1,\n",
              " 1,\n",
              " 1,\n",
              " 0,\n",
              " 0,\n",
              " 0,\n",
              " 0,\n",
              " 0,\n",
              " 0,\n",
              " 1,\n",
              " 0,\n",
              " 0,\n",
              " 1,\n",
              " 0,\n",
              " 1,\n",
              " 1,\n",
              " 1,\n",
              " 1,\n",
              " 1,\n",
              " 1,\n",
              " 0,\n",
              " 1,\n",
              " 1,\n",
              " 0,\n",
              " 1,\n",
              " 1,\n",
              " 1,\n",
              " 1,\n",
              " 1,\n",
              " 1,\n",
              " 1]"
            ]
          },
          "metadata": {},
          "execution_count": 75
        }
      ]
    },
    {
      "cell_type": "code",
      "source": [
        "busqueda_local(sol0_3, q,vecindadC)"
      ],
      "metadata": {
        "colab": {
          "base_uri": "https://localhost:8080/"
        },
        "id": "6YumsaH20uSu",
        "outputId": "9ff59ebd-d0f8-4d78-da3d-edbdb7186a56"
      },
      "execution_count": 76,
      "outputs": [
        {
          "output_type": "execute_result",
          "data": {
            "text/plain": [
              "([0,\n",
              "  0,\n",
              "  0,\n",
              "  1,\n",
              "  0,\n",
              "  1,\n",
              "  1,\n",
              "  0,\n",
              "  0,\n",
              "  0,\n",
              "  1,\n",
              "  1,\n",
              "  1,\n",
              "  1,\n",
              "  1,\n",
              "  0,\n",
              "  0,\n",
              "  1,\n",
              "  1,\n",
              "  1,\n",
              "  1,\n",
              "  1,\n",
              "  0,\n",
              "  0,\n",
              "  0,\n",
              "  0,\n",
              "  0,\n",
              "  0,\n",
              "  1,\n",
              "  0,\n",
              "  0,\n",
              "  1,\n",
              "  0,\n",
              "  1,\n",
              "  1,\n",
              "  1,\n",
              "  1,\n",
              "  1,\n",
              "  1,\n",
              "  0,\n",
              "  1,\n",
              "  1,\n",
              "  0,\n",
              "  1,\n",
              "  1,\n",
              "  1,\n",
              "  1,\n",
              "  1,\n",
              "  1,\n",
              "  1],\n",
              " 7260)"
            ]
          },
          "metadata": {},
          "execution_count": 76
        }
      ]
    },
    {
      "cell_type": "code",
      "source": [
        "busqueda_local(sol0_3, q,vecindadRK)"
      ],
      "metadata": {
        "colab": {
          "base_uri": "https://localhost:8080/"
        },
        "id": "jrvo4Phm0z_K",
        "outputId": "1bdd947c-2e73-4e99-c777-1b1432ad362a"
      },
      "execution_count": 77,
      "outputs": [
        {
          "output_type": "execute_result",
          "data": {
            "text/plain": [
              "([0,\n",
              "  0,\n",
              "  0,\n",
              "  1,\n",
              "  0,\n",
              "  1,\n",
              "  1,\n",
              "  0,\n",
              "  0,\n",
              "  0,\n",
              "  1,\n",
              "  1,\n",
              "  1,\n",
              "  1,\n",
              "  1,\n",
              "  0,\n",
              "  0,\n",
              "  1,\n",
              "  1,\n",
              "  1,\n",
              "  1,\n",
              "  1,\n",
              "  0,\n",
              "  0,\n",
              "  0,\n",
              "  0,\n",
              "  0,\n",
              "  0,\n",
              "  1,\n",
              "  0,\n",
              "  0,\n",
              "  1,\n",
              "  0,\n",
              "  1,\n",
              "  1,\n",
              "  1,\n",
              "  1,\n",
              "  1,\n",
              "  1,\n",
              "  0,\n",
              "  1,\n",
              "  1,\n",
              "  0,\n",
              "  1,\n",
              "  1,\n",
              "  1,\n",
              "  1,\n",
              "  1,\n",
              "  1,\n",
              "  1],\n",
              " 7260)"
            ]
          },
          "metadata": {},
          "execution_count": 77
        }
      ]
    }
  ]
}