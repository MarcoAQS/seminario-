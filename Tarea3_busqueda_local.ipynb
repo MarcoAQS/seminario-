{
  "nbformat": 4,
  "nbformat_minor": 0,
  "metadata": {
    "colab": {
      "provenance": [],
      "authorship_tag": "ABX9TyNe4gPk3ZywIhzkPhB6QSjo",
      "include_colab_link": true
    },
    "kernelspec": {
      "name": "python3",
      "display_name": "Python 3"
    },
    "language_info": {
      "name": "python"
    }
  },
  "cells": [
    {
      "cell_type": "markdown",
      "metadata": {
        "id": "view-in-github",
        "colab_type": "text"
      },
      "source": [
        "<a href=\"https://colab.research.google.com/github/MarcoAQS/seminario-/blob/main/Tarea3_busqueda_local.ipynb\" target=\"_parent\"><img src=\"https://colab.research.google.com/assets/colab-badge.svg\" alt=\"Open In Colab\"/></a>"
      ]
    },
    {
      "cell_type": "markdown",
      "source": [
        "# Tarea 3. Ejercicio 8\n",
        "\n",
        "Marco Antonio Quintero Santiago"
      ],
      "metadata": {
        "id": "QB20nQtgkf2Q"
      }
    },
    {
      "cell_type": "code",
      "execution_count": 50,
      "metadata": {
        "id": "OBLaYa67kdG0"
      },
      "outputs": [],
      "source": [
        "import numpy as np\n",
        "import random\n",
        "import networkx as nx"
      ]
    },
    {
      "cell_type": "code",
      "source": [
        "def cobertura(g, v_prim):\n",
        "    \"\"\"\n",
        "    Función que evalua si un subconjunto de vértices\n",
        "    (expresado en forma binaria) es una cobertura de\n",
        "    la gráfica.\n",
        "\n",
        "    Input:\n",
        "    - g: Una gráfica (usando networkx)\n",
        "    - vertices: subconjunto de vértices (binario)\n",
        "\n",
        "    Returns:\n",
        "    - True (boolean) si el subconjunto de vértices es una cobertura\n",
        "    - False (boolean) en otro caso\n",
        "    \"\"\"\n",
        "\n",
        "    for arista in g.edges():\n",
        "        if v_prim[arista[0]] == 0 and v_prim[arista[1]] == 0:\n",
        "            return False # Si se encuentra una arista que no está cubierta, se regresa False\n",
        "        pass # Si todas las aristas están cubiertas, se regresa True\n",
        "\n",
        "    return True\n"
      ],
      "metadata": {
        "id": "NB-qLpvAkpYm"
      },
      "execution_count": 51,
      "outputs": []
    },
    {
      "cell_type": "code",
      "source": [
        "def funcion_f(s,g):\n",
        "    if cobertura(g,s):\n",
        "        return sum(s)\n",
        "    else: #Penalizamos una solución que no sea factible\n",
        "        return sum(s) + (len(g.edges())*sum(s))"
      ],
      "metadata": {
        "id": "CfOFRwZUkrIw"
      },
      "execution_count": 52,
      "outputs": []
    },
    {
      "cell_type": "code",
      "source": [
        "def genera_grafica_aleatoria(n:int, p:float):\n",
        "    \"\"\"\n",
        "    Función para generar n vertices con una probabilidad p\n",
        "    de agregar la arista que una dos vertices\n",
        "\n",
        "    Input:\n",
        "    - n (int): Numero de nodos de la grafica.\n",
        "    - p (float): Proba de agregar una arista.\n",
        "\n",
        "    Returns:\n",
        "    - g (nx.Graph): La grafica generada.\n",
        "    \"\"\"\n",
        "    g = nx.Graph()\n",
        "    g.add_nodes_from(range(n))\n",
        "    for i in range(n):\n",
        "        for j in range(i+1, n):\n",
        "            if random.random() < p:\n",
        "                g.add_edge(i, j)\n",
        "    return g"
      ],
      "metadata": {
        "id": "SDILoHZVk3qZ"
      },
      "execution_count": 53,
      "outputs": []
    },
    {
      "cell_type": "markdown",
      "source": [
        "## Vecindades"
      ],
      "metadata": {
        "id": "g_VSOodfmNqx"
      }
    },
    {
      "cell_type": "code",
      "source": [
        "def vecindadC(s, k = 0):\n",
        "    vecinos = []\n",
        "    for i in range(len(s)):\n",
        "        vecino = s.copy()\n",
        "        vecino[i] = 1 - vecino[i]\n",
        "        vecinos.append(vecino)\n",
        "\n",
        "    return vecinos\n",
        "\n",
        "\n",
        "def vecindadRK(s,k):\n",
        "    vecinos = []\n",
        "    for i in range(k):\n",
        "        vecino = s.copy()\n",
        "        j = random.randint(0,len(s)-1)\n",
        "        vecino[j] = 1 - vecino[j]\n",
        "        vecinos.append(vecino)\n",
        "\n",
        "    return vecinos"
      ],
      "metadata": {
        "id": "IySGpGHomO0P"
      },
      "execution_count": 65,
      "outputs": []
    },
    {
      "cell_type": "code",
      "source": [
        "# Funcion para generar una solucion aleatoria\n",
        "def genera_solucion_aleatoria(g,n,N = vecindadRK, m =1):\n",
        "    \"\"\"\n",
        "    Se generá una solución de tamaño n y se verifica que\n",
        "    sea una solución factible.\n",
        "\n",
        "\n",
        "    Input:\n",
        "    - g (nx.Graph): La gráfica con la que se está trabajando\n",
        "    - n (int): Longitud de la solución.\n",
        "    - N (function) : La vecindad a utilizar (Por defecto se\n",
        "                     utiliza la vecindadRK)\n",
        "    - m (int) : El número aleatorio de vecinos a generar si se\n",
        "                utiliza la vecindadRK (por defecto se genera 1)\n",
        "\n",
        "    Returns:\n",
        "    sol: Una lista con una solución factible generada al azar.\n",
        "    \"\"\"\n",
        "    sol = [random.randint(0, 1) for i in range(n)]\n",
        "\n",
        "    #evaluamos\n",
        "    while not cobertura(g,sol):\n",
        "        sol = N(sol, m)[0]\n",
        "\n",
        "    return sol"
      ],
      "metadata": {
        "id": "OMIHebctl65b"
      },
      "execution_count": 145,
      "outputs": []
    },
    {
      "cell_type": "code",
      "source": [
        "def busqueda_local(s0, g, N, n = 10, f=funcion_f, m = 0):\n",
        "    x = s0\n",
        "    z = f(x,g)\n",
        "\n",
        "    k = 0\n",
        "\n",
        "    while k < n:\n",
        "        vecinos = N(x,m)\n",
        "        y = min(vecinos, key = lambda x: f(x,g))\n",
        "        w = f(y,g)\n",
        "\n",
        "        if w < z and cobertura(g,y):\n",
        "            x = y\n",
        "            z = w\n",
        "            k = 0\n",
        "        else:\n",
        "            k += 1\n",
        "\n",
        "    return x, z"
      ],
      "metadata": {
        "id": "x7K6lkXeor_B"
      },
      "execution_count": 133,
      "outputs": []
    },
    {
      "cell_type": "markdown",
      "source": [
        "### Instancia 1"
      ],
      "metadata": {
        "id": "9qp7pKFumU2T"
      }
    },
    {
      "cell_type": "code",
      "source": [
        "random.seed(0)\n",
        "n1 = 6\n",
        "g = genera_grafica_aleatoria(n1, 0.6)\n",
        "\n",
        "for edge in g.edges():\n",
        "    print(edge)"
      ],
      "metadata": {
        "colab": {
          "base_uri": "https://localhost:8080/"
        },
        "id": "LngwVeujllYE",
        "outputId": "d57b9de2-a496-464b-fa54-ef7911fb65c2"
      },
      "execution_count": 146,
      "outputs": [
        {
          "output_type": "stream",
          "name": "stdout",
          "text": [
            "(0, 3)\n",
            "(0, 4)\n",
            "(0, 5)\n",
            "(1, 2)\n",
            "(1, 4)\n",
            "(1, 5)\n",
            "(2, 3)\n",
            "(2, 5)\n",
            "(3, 4)\n"
          ]
        }
      ]
    },
    {
      "cell_type": "code",
      "source": [
        "random.seed(0)\n",
        "sol0_1 = genera_solucion_aleatoria(g,n1)\n",
        "sol0_1"
      ],
      "metadata": {
        "colab": {
          "base_uri": "https://localhost:8080/"
        },
        "id": "2tYB38uvly9g",
        "outputId": "b4a2815d-d8d8-45b1-f4aa-6294070a6738"
      },
      "execution_count": 147,
      "outputs": [
        {
          "output_type": "execute_result",
          "data": {
            "text/plain": [
              "[1, 1, 0, 1, 1, 1]"
            ]
          },
          "metadata": {},
          "execution_count": 147
        }
      ]
    },
    {
      "cell_type": "code",
      "source": [
        "busqueda_local(sol0_1, g, vecindadC)"
      ],
      "metadata": {
        "colab": {
          "base_uri": "https://localhost:8080/"
        },
        "id": "J4WgNuihowPl",
        "outputId": "cf419340-d52a-43ff-fc03-63fdf52ffd28"
      },
      "execution_count": 148,
      "outputs": [
        {
          "output_type": "execute_result",
          "data": {
            "text/plain": [
              "([0, 1, 0, 1, 1, 1], 4)"
            ]
          },
          "metadata": {},
          "execution_count": 148
        }
      ]
    },
    {
      "cell_type": "code",
      "source": [
        "busqueda_local(sol0_1, g, vecindadRK, m = 10)"
      ],
      "metadata": {
        "colab": {
          "base_uri": "https://localhost:8080/"
        },
        "id": "oMaygpS5reZn",
        "outputId": "afe1ab2a-5e5b-488f-e1ed-6008c1b18f31"
      },
      "execution_count": 149,
      "outputs": [
        {
          "output_type": "execute_result",
          "data": {
            "text/plain": [
              "([1, 1, 0, 1, 0, 1], 4)"
            ]
          },
          "metadata": {},
          "execution_count": 149
        }
      ]
    },
    {
      "cell_type": "markdown",
      "source": [
        "### Instancia 2"
      ],
      "metadata": {
        "id": "Jknnc2G7pBQI"
      }
    },
    {
      "cell_type": "code",
      "source": [
        "random.seed(1)\n",
        "n2 = 15\n",
        "h = genera_grafica_aleatoria(n2, 0.3)\n",
        "\n",
        "for edge in h.edges():\n",
        "    print(edge)"
      ],
      "metadata": {
        "colab": {
          "base_uri": "https://localhost:8080/"
        },
        "id": "sLdCFesIpGMe",
        "outputId": "be59b0c2-5079-4e44-8869-434e261f8b5a"
      },
      "execution_count": 139,
      "outputs": [
        {
          "output_type": "stream",
          "name": "stdout",
          "text": [
            "(0, 1)\n",
            "(0, 4)\n",
            "(0, 9)\n",
            "(0, 10)\n",
            "(0, 14)\n",
            "(1, 4)\n",
            "(1, 7)\n",
            "(1, 8)\n",
            "(1, 12)\n",
            "(1, 14)\n",
            "(2, 3)\n",
            "(2, 6)\n",
            "(2, 7)\n",
            "(2, 8)\n",
            "(2, 10)\n",
            "(2, 11)\n",
            "(3, 4)\n",
            "(3, 7)\n",
            "(4, 11)\n",
            "(4, 12)\n",
            "(5, 6)\n",
            "(6, 9)\n",
            "(6, 10)\n",
            "(7, 8)\n",
            "(7, 14)\n",
            "(8, 13)\n",
            "(9, 11)\n",
            "(11, 13)\n",
            "(12, 14)\n"
          ]
        }
      ]
    },
    {
      "cell_type": "code",
      "source": [
        "random.seed(1)\n",
        "sol0_2 = genera_solucion_aleatoria(h,n2,vecindadRK,m=1)\n",
        "sol0_2"
      ],
      "metadata": {
        "colab": {
          "base_uri": "https://localhost:8080/"
        },
        "id": "D31vzXB4pRnX",
        "outputId": "9e5f01ec-e657-4bf9-daf3-a7210fed737e"
      },
      "execution_count": 150,
      "outputs": [
        {
          "output_type": "execute_result",
          "data": {
            "text/plain": [
              "[1, 1, 1, 1, 0, 0, 1, 1, 0, 1, 1, 1, 1, 1, 0]"
            ]
          },
          "metadata": {},
          "execution_count": 150
        }
      ]
    },
    {
      "cell_type": "code",
      "source": [
        "busqueda_local(sol0_2, h,vecindadC)"
      ],
      "metadata": {
        "colab": {
          "base_uri": "https://localhost:8080/"
        },
        "id": "AbNXSVs1pVFL",
        "outputId": "2e0677c1-4682-4070-f342-b7b11e208643"
      },
      "execution_count": 151,
      "outputs": [
        {
          "output_type": "execute_result",
          "data": {
            "text/plain": [
              "([1, 1, 1, 1, 0, 0, 1, 1, 0, 0, 0, 1, 1, 1, 0], 9)"
            ]
          },
          "metadata": {},
          "execution_count": 151
        }
      ]
    },
    {
      "cell_type": "code",
      "source": [
        "busqueda_local(sol0_2, h, vecindadRK,m=10)"
      ],
      "metadata": {
        "colab": {
          "base_uri": "https://localhost:8080/"
        },
        "id": "3zDvclOIroPh",
        "outputId": "b14dcac4-9c62-4f30-cd89-3373de1981e6"
      },
      "execution_count": 152,
      "outputs": [
        {
          "output_type": "execute_result",
          "data": {
            "text/plain": [
              "([1, 1, 1, 1, 0, 0, 1, 1, 0, 0, 0, 1, 1, 1, 0], 9)"
            ]
          },
          "metadata": {},
          "execution_count": 152
        }
      ]
    },
    {
      "cell_type": "code",
      "source": [
        "cobertura(h,busqueda_local(sol0_2, h, vecindadRK,m=10)[0])"
      ],
      "metadata": {
        "colab": {
          "base_uri": "https://localhost:8080/"
        },
        "id": "j7psaiTVp4Ug",
        "outputId": "3f86396e-6e9a-4321-e809-477e8aff680d"
      },
      "execution_count": 128,
      "outputs": [
        {
          "output_type": "execute_result",
          "data": {
            "text/plain": [
              "True"
            ]
          },
          "metadata": {},
          "execution_count": 128
        }
      ]
    },
    {
      "cell_type": "markdown",
      "source": [
        "### Instancia 3"
      ],
      "metadata": {
        "id": "PJmfb3qo0fOf"
      }
    },
    {
      "cell_type": "code",
      "source": [
        "random.seed(2)\n",
        "n3 = 25\n",
        "q = genera_grafica_aleatoria(n3, 0.2)"
      ],
      "metadata": {
        "id": "o5wYkZyd0gNE"
      },
      "execution_count": 172,
      "outputs": []
    },
    {
      "cell_type": "code",
      "source": [
        "random.seed(2)\n",
        "sol0_3 = genera_solucion_aleatoria(q,n3)\n",
        "sol0_3"
      ],
      "metadata": {
        "colab": {
          "base_uri": "https://localhost:8080/"
        },
        "id": "cKcyeT1x0pq7",
        "outputId": "3daaa223-d741-461f-fe15-6c8efa6f94ef"
      },
      "execution_count": 173,
      "outputs": [
        {
          "output_type": "execute_result",
          "data": {
            "text/plain": [
              "[1, 1, 1, 0, 1, 0, 1, 1, 1, 1, 1, 1, 0, 1, 1, 0, 1, 1, 1, 1, 1, 1, 1, 1, 1]"
            ]
          },
          "metadata": {},
          "execution_count": 173
        }
      ]
    },
    {
      "cell_type": "code",
      "source": [
        "busqueda_local(sol0_3, q,vecindadC)"
      ],
      "metadata": {
        "colab": {
          "base_uri": "https://localhost:8080/"
        },
        "id": "6YumsaH20uSu",
        "outputId": "4008aa92-1ee9-44a1-e9b9-bfdcf06ccd55"
      },
      "execution_count": 174,
      "outputs": [
        {
          "output_type": "execute_result",
          "data": {
            "text/plain": [
              "([1, 0, 0, 0, 1, 0, 0, 1, 1, 1, 0, 1, 0, 1, 1, 0, 1, 1, 1, 1, 1, 1, 1, 1, 0],\n",
              " 16)"
            ]
          },
          "metadata": {},
          "execution_count": 174
        }
      ]
    },
    {
      "cell_type": "code",
      "source": [
        "random.seed(1)\n",
        "busqueda_local(sol0_3, q,vecindadRK)"
      ],
      "metadata": {
        "colab": {
          "base_uri": "https://localhost:8080/"
        },
        "id": "jrvo4Phm0z_K",
        "outputId": "ac53ac16-ca2f-4fa8-854c-769513f993cc"
      },
      "execution_count": 176,
      "outputs": [
        {
          "output_type": "execute_result",
          "data": {
            "text/plain": [
              "([1, 1, 0, 0, 1, 0, 0, 1, 1, 1, 1, 1, 0, 1, 1, 0, 1, 1, 1, 1, 1, 1, 1, 1, 0],\n",
              " 18)"
            ]
          },
          "metadata": {},
          "execution_count": 176
        }
      ]
    },
    {
      "cell_type": "code",
      "source": [],
      "metadata": {
        "id": "oYCMxLIGAS8l"
      },
      "execution_count": null,
      "outputs": []
    }
  ]
}